{
  "metadata": {
    "colab": {
      "provenance": [],
      "gpuType": "T4"
    },
    "kernelspec": {
      "name": "python3",
      "display_name": "Python 3",
      "language": "python"
    },
    "language_info": {
      "name": "python",
      "version": "3.10.10",
      "mimetype": "text/x-python",
      "codemirror_mode": {
        "name": "ipython",
        "version": 3
      },
      "pygments_lexer": "ipython3",
      "nbconvert_exporter": "python",
      "file_extension": ".py"
    },
    "accelerator": "GPU",
    "widgets": {
      "application/vnd.jupyter.widget-state+json": {
        "54f21a5e86c944878639a405834dfc51": {
          "model_module": "@jupyter-widgets/controls",
          "model_name": "HBoxModel",
          "model_module_version": "1.5.0",
          "state": {
            "_dom_classes": [],
            "_model_module": "@jupyter-widgets/controls",
            "_model_module_version": "1.5.0",
            "_model_name": "HBoxModel",
            "_view_count": null,
            "_view_module": "@jupyter-widgets/controls",
            "_view_module_version": "1.5.0",
            "_view_name": "HBoxView",
            "box_style": "",
            "children": [
              "IPY_MODEL_1cf2b3a96d0b430292929e0db64d3abf",
              "IPY_MODEL_8ba9334cd9fd41bfb5733e9f2ee14243",
              "IPY_MODEL_f6eb8ed1556245f3b9404420bc85c5f1"
            ],
            "layout": "IPY_MODEL_5d9a5499ef7b467587d3c5678ade492b"
          }
        },
        "1cf2b3a96d0b430292929e0db64d3abf": {
          "model_module": "@jupyter-widgets/controls",
          "model_name": "HTMLModel",
          "model_module_version": "1.5.0",
          "state": {
            "_dom_classes": [],
            "_model_module": "@jupyter-widgets/controls",
            "_model_module_version": "1.5.0",
            "_model_name": "HTMLModel",
            "_view_count": null,
            "_view_module": "@jupyter-widgets/controls",
            "_view_module_version": "1.5.0",
            "_view_name": "HTMLView",
            "description": "",
            "description_tooltip": null,
            "layout": "IPY_MODEL_9cb253ecfbc045229bb6e179b202d12a",
            "placeholder": "​",
            "style": "IPY_MODEL_393deac5b6a443ba9004763119b7a9a3",
            "value": "Map:  98%"
          }
        },
        "8ba9334cd9fd41bfb5733e9f2ee14243": {
          "model_module": "@jupyter-widgets/controls",
          "model_name": "FloatProgressModel",
          "model_module_version": "1.5.0",
          "state": {
            "_dom_classes": [],
            "_model_module": "@jupyter-widgets/controls",
            "_model_module_version": "1.5.0",
            "_model_name": "FloatProgressModel",
            "_view_count": null,
            "_view_module": "@jupyter-widgets/controls",
            "_view_module_version": "1.5.0",
            "_view_name": "ProgressView",
            "bar_style": "",
            "description": "",
            "description_tooltip": null,
            "layout": "IPY_MODEL_1d498345a2a04f71a9c6d0f8a9f6312d",
            "max": 650,
            "min": 0,
            "orientation": "horizontal",
            "style": "IPY_MODEL_7b61bfe74800435c9c9bccb1946c1b96",
            "value": 650
          }
        },
        "f6eb8ed1556245f3b9404420bc85c5f1": {
          "model_module": "@jupyter-widgets/controls",
          "model_name": "HTMLModel",
          "model_module_version": "1.5.0",
          "state": {
            "_dom_classes": [],
            "_model_module": "@jupyter-widgets/controls",
            "_model_module_version": "1.5.0",
            "_model_name": "HTMLModel",
            "_view_count": null,
            "_view_module": "@jupyter-widgets/controls",
            "_view_module_version": "1.5.0",
            "_view_name": "HTMLView",
            "description": "",
            "description_tooltip": null,
            "layout": "IPY_MODEL_c08c8dc6fa7647a682a32ccaf540a11c",
            "placeholder": "​",
            "style": "IPY_MODEL_89f226fb7a7b4c68a4c4b5ccfa26df51",
            "value": " 635/650 [00:02&lt;00:00, 276.59 examples/s]"
          }
        },
        "5d9a5499ef7b467587d3c5678ade492b": {
          "model_module": "@jupyter-widgets/base",
          "model_name": "LayoutModel",
          "model_module_version": "1.2.0",
          "state": {
            "_model_module": "@jupyter-widgets/base",
            "_model_module_version": "1.2.0",
            "_model_name": "LayoutModel",
            "_view_count": null,
            "_view_module": "@jupyter-widgets/base",
            "_view_module_version": "1.2.0",
            "_view_name": "LayoutView",
            "align_content": null,
            "align_items": null,
            "align_self": null,
            "border": null,
            "bottom": null,
            "display": null,
            "flex": null,
            "flex_flow": null,
            "grid_area": null,
            "grid_auto_columns": null,
            "grid_auto_flow": null,
            "grid_auto_rows": null,
            "grid_column": null,
            "grid_gap": null,
            "grid_row": null,
            "grid_template_areas": null,
            "grid_template_columns": null,
            "grid_template_rows": null,
            "height": null,
            "justify_content": null,
            "justify_items": null,
            "left": null,
            "margin": null,
            "max_height": null,
            "max_width": null,
            "min_height": null,
            "min_width": null,
            "object_fit": null,
            "object_position": null,
            "order": null,
            "overflow": null,
            "overflow_x": null,
            "overflow_y": null,
            "padding": null,
            "right": null,
            "top": null,
            "visibility": "hidden",
            "width": null
          }
        },
        "9cb253ecfbc045229bb6e179b202d12a": {
          "model_module": "@jupyter-widgets/base",
          "model_name": "LayoutModel",
          "model_module_version": "1.2.0",
          "state": {
            "_model_module": "@jupyter-widgets/base",
            "_model_module_version": "1.2.0",
            "_model_name": "LayoutModel",
            "_view_count": null,
            "_view_module": "@jupyter-widgets/base",
            "_view_module_version": "1.2.0",
            "_view_name": "LayoutView",
            "align_content": null,
            "align_items": null,
            "align_self": null,
            "border": null,
            "bottom": null,
            "display": null,
            "flex": null,
            "flex_flow": null,
            "grid_area": null,
            "grid_auto_columns": null,
            "grid_auto_flow": null,
            "grid_auto_rows": null,
            "grid_column": null,
            "grid_gap": null,
            "grid_row": null,
            "grid_template_areas": null,
            "grid_template_columns": null,
            "grid_template_rows": null,
            "height": null,
            "justify_content": null,
            "justify_items": null,
            "left": null,
            "margin": null,
            "max_height": null,
            "max_width": null,
            "min_height": null,
            "min_width": null,
            "object_fit": null,
            "object_position": null,
            "order": null,
            "overflow": null,
            "overflow_x": null,
            "overflow_y": null,
            "padding": null,
            "right": null,
            "top": null,
            "visibility": null,
            "width": null
          }
        },
        "393deac5b6a443ba9004763119b7a9a3": {
          "model_module": "@jupyter-widgets/controls",
          "model_name": "DescriptionStyleModel",
          "model_module_version": "1.5.0",
          "state": {
            "_model_module": "@jupyter-widgets/controls",
            "_model_module_version": "1.5.0",
            "_model_name": "DescriptionStyleModel",
            "_view_count": null,
            "_view_module": "@jupyter-widgets/base",
            "_view_module_version": "1.2.0",
            "_view_name": "StyleView",
            "description_width": ""
          }
        },
        "1d498345a2a04f71a9c6d0f8a9f6312d": {
          "model_module": "@jupyter-widgets/base",
          "model_name": "LayoutModel",
          "model_module_version": "1.2.0",
          "state": {
            "_model_module": "@jupyter-widgets/base",
            "_model_module_version": "1.2.0",
            "_model_name": "LayoutModel",
            "_view_count": null,
            "_view_module": "@jupyter-widgets/base",
            "_view_module_version": "1.2.0",
            "_view_name": "LayoutView",
            "align_content": null,
            "align_items": null,
            "align_self": null,
            "border": null,
            "bottom": null,
            "display": null,
            "flex": null,
            "flex_flow": null,
            "grid_area": null,
            "grid_auto_columns": null,
            "grid_auto_flow": null,
            "grid_auto_rows": null,
            "grid_column": null,
            "grid_gap": null,
            "grid_row": null,
            "grid_template_areas": null,
            "grid_template_columns": null,
            "grid_template_rows": null,
            "height": null,
            "justify_content": null,
            "justify_items": null,
            "left": null,
            "margin": null,
            "max_height": null,
            "max_width": null,
            "min_height": null,
            "min_width": null,
            "object_fit": null,
            "object_position": null,
            "order": null,
            "overflow": null,
            "overflow_x": null,
            "overflow_y": null,
            "padding": null,
            "right": null,
            "top": null,
            "visibility": null,
            "width": null
          }
        },
        "7b61bfe74800435c9c9bccb1946c1b96": {
          "model_module": "@jupyter-widgets/controls",
          "model_name": "ProgressStyleModel",
          "model_module_version": "1.5.0",
          "state": {
            "_model_module": "@jupyter-widgets/controls",
            "_model_module_version": "1.5.0",
            "_model_name": "ProgressStyleModel",
            "_view_count": null,
            "_view_module": "@jupyter-widgets/base",
            "_view_module_version": "1.2.0",
            "_view_name": "StyleView",
            "bar_color": null,
            "description_width": ""
          }
        },
        "c08c8dc6fa7647a682a32ccaf540a11c": {
          "model_module": "@jupyter-widgets/base",
          "model_name": "LayoutModel",
          "model_module_version": "1.2.0",
          "state": {
            "_model_module": "@jupyter-widgets/base",
            "_model_module_version": "1.2.0",
            "_model_name": "LayoutModel",
            "_view_count": null,
            "_view_module": "@jupyter-widgets/base",
            "_view_module_version": "1.2.0",
            "_view_name": "LayoutView",
            "align_content": null,
            "align_items": null,
            "align_self": null,
            "border": null,
            "bottom": null,
            "display": null,
            "flex": null,
            "flex_flow": null,
            "grid_area": null,
            "grid_auto_columns": null,
            "grid_auto_flow": null,
            "grid_auto_rows": null,
            "grid_column": null,
            "grid_gap": null,
            "grid_row": null,
            "grid_template_areas": null,
            "grid_template_columns": null,
            "grid_template_rows": null,
            "height": null,
            "justify_content": null,
            "justify_items": null,
            "left": null,
            "margin": null,
            "max_height": null,
            "max_width": null,
            "min_height": null,
            "min_width": null,
            "object_fit": null,
            "object_position": null,
            "order": null,
            "overflow": null,
            "overflow_x": null,
            "overflow_y": null,
            "padding": null,
            "right": null,
            "top": null,
            "visibility": null,
            "width": null
          }
        },
        "89f226fb7a7b4c68a4c4b5ccfa26df51": {
          "model_module": "@jupyter-widgets/controls",
          "model_name": "DescriptionStyleModel",
          "model_module_version": "1.5.0",
          "state": {
            "_model_module": "@jupyter-widgets/controls",
            "_model_module_version": "1.5.0",
            "_model_name": "DescriptionStyleModel",
            "_view_count": null,
            "_view_module": "@jupyter-widgets/base",
            "_view_module_version": "1.2.0",
            "_view_name": "StyleView",
            "description_width": ""
          }
        },
        "9a04e32cafe442e69f58a9535454def2": {
          "model_module": "@jupyter-widgets/controls",
          "model_name": "HBoxModel",
          "model_module_version": "1.5.0",
          "state": {
            "_dom_classes": [],
            "_model_module": "@jupyter-widgets/controls",
            "_model_module_version": "1.5.0",
            "_model_name": "HBoxModel",
            "_view_count": null,
            "_view_module": "@jupyter-widgets/controls",
            "_view_module_version": "1.5.0",
            "_view_name": "HBoxView",
            "box_style": "",
            "children": [
              "IPY_MODEL_1854610f5f0b464c9d2e910235c653f9",
              "IPY_MODEL_70d19cd240004a75b735e02bc8737e61",
              "IPY_MODEL_dd58d7f080ad439180f1a27fabeb1edd"
            ],
            "layout": "IPY_MODEL_597efe88962449c08cd3695864065806"
          }
        },
        "1854610f5f0b464c9d2e910235c653f9": {
          "model_module": "@jupyter-widgets/controls",
          "model_name": "HTMLModel",
          "model_module_version": "1.5.0",
          "state": {
            "_dom_classes": [],
            "_model_module": "@jupyter-widgets/controls",
            "_model_module_version": "1.5.0",
            "_model_name": "HTMLModel",
            "_view_count": null,
            "_view_module": "@jupyter-widgets/controls",
            "_view_module_version": "1.5.0",
            "_view_name": "HTMLView",
            "description": "",
            "description_tooltip": null,
            "layout": "IPY_MODEL_f7cc1e7f78f14d5491b69f71dc94d3b8",
            "placeholder": "​",
            "style": "IPY_MODEL_3bb7d19ef4e244789c667c8c1d9490e7",
            "value": "Map:  56%"
          }
        },
        "70d19cd240004a75b735e02bc8737e61": {
          "model_module": "@jupyter-widgets/controls",
          "model_name": "FloatProgressModel",
          "model_module_version": "1.5.0",
          "state": {
            "_dom_classes": [],
            "_model_module": "@jupyter-widgets/controls",
            "_model_module_version": "1.5.0",
            "_model_name": "FloatProgressModel",
            "_view_count": null,
            "_view_module": "@jupyter-widgets/controls",
            "_view_module_version": "1.5.0",
            "_view_name": "ProgressView",
            "bar_style": "",
            "description": "",
            "description_tooltip": null,
            "layout": "IPY_MODEL_1f56148a366d43f580c979da098ba20f",
            "max": 50,
            "min": 0,
            "orientation": "horizontal",
            "style": "IPY_MODEL_72c1694661bb4b45bf84ae44fcc47a33",
            "value": 50
          }
        },
        "dd58d7f080ad439180f1a27fabeb1edd": {
          "model_module": "@jupyter-widgets/controls",
          "model_name": "HTMLModel",
          "model_module_version": "1.5.0",
          "state": {
            "_dom_classes": [],
            "_model_module": "@jupyter-widgets/controls",
            "_model_module_version": "1.5.0",
            "_model_name": "HTMLModel",
            "_view_count": null,
            "_view_module": "@jupyter-widgets/controls",
            "_view_module_version": "1.5.0",
            "_view_name": "HTMLView",
            "description": "",
            "description_tooltip": null,
            "layout": "IPY_MODEL_6dca4a49cdf74950afc8a73044d027e7",
            "placeholder": "​",
            "style": "IPY_MODEL_ebca838b35494e4f80d577dd68ffb0cd",
            "value": " 28/50 [00:00&lt;00:00, 216.84 examples/s]"
          }
        },
        "597efe88962449c08cd3695864065806": {
          "model_module": "@jupyter-widgets/base",
          "model_name": "LayoutModel",
          "model_module_version": "1.2.0",
          "state": {
            "_model_module": "@jupyter-widgets/base",
            "_model_module_version": "1.2.0",
            "_model_name": "LayoutModel",
            "_view_count": null,
            "_view_module": "@jupyter-widgets/base",
            "_view_module_version": "1.2.0",
            "_view_name": "LayoutView",
            "align_content": null,
            "align_items": null,
            "align_self": null,
            "border": null,
            "bottom": null,
            "display": null,
            "flex": null,
            "flex_flow": null,
            "grid_area": null,
            "grid_auto_columns": null,
            "grid_auto_flow": null,
            "grid_auto_rows": null,
            "grid_column": null,
            "grid_gap": null,
            "grid_row": null,
            "grid_template_areas": null,
            "grid_template_columns": null,
            "grid_template_rows": null,
            "height": null,
            "justify_content": null,
            "justify_items": null,
            "left": null,
            "margin": null,
            "max_height": null,
            "max_width": null,
            "min_height": null,
            "min_width": null,
            "object_fit": null,
            "object_position": null,
            "order": null,
            "overflow": null,
            "overflow_x": null,
            "overflow_y": null,
            "padding": null,
            "right": null,
            "top": null,
            "visibility": "hidden",
            "width": null
          }
        },
        "f7cc1e7f78f14d5491b69f71dc94d3b8": {
          "model_module": "@jupyter-widgets/base",
          "model_name": "LayoutModel",
          "model_module_version": "1.2.0",
          "state": {
            "_model_module": "@jupyter-widgets/base",
            "_model_module_version": "1.2.0",
            "_model_name": "LayoutModel",
            "_view_count": null,
            "_view_module": "@jupyter-widgets/base",
            "_view_module_version": "1.2.0",
            "_view_name": "LayoutView",
            "align_content": null,
            "align_items": null,
            "align_self": null,
            "border": null,
            "bottom": null,
            "display": null,
            "flex": null,
            "flex_flow": null,
            "grid_area": null,
            "grid_auto_columns": null,
            "grid_auto_flow": null,
            "grid_auto_rows": null,
            "grid_column": null,
            "grid_gap": null,
            "grid_row": null,
            "grid_template_areas": null,
            "grid_template_columns": null,
            "grid_template_rows": null,
            "height": null,
            "justify_content": null,
            "justify_items": null,
            "left": null,
            "margin": null,
            "max_height": null,
            "max_width": null,
            "min_height": null,
            "min_width": null,
            "object_fit": null,
            "object_position": null,
            "order": null,
            "overflow": null,
            "overflow_x": null,
            "overflow_y": null,
            "padding": null,
            "right": null,
            "top": null,
            "visibility": null,
            "width": null
          }
        },
        "3bb7d19ef4e244789c667c8c1d9490e7": {
          "model_module": "@jupyter-widgets/controls",
          "model_name": "DescriptionStyleModel",
          "model_module_version": "1.5.0",
          "state": {
            "_model_module": "@jupyter-widgets/controls",
            "_model_module_version": "1.5.0",
            "_model_name": "DescriptionStyleModel",
            "_view_count": null,
            "_view_module": "@jupyter-widgets/base",
            "_view_module_version": "1.2.0",
            "_view_name": "StyleView",
            "description_width": ""
          }
        },
        "1f56148a366d43f580c979da098ba20f": {
          "model_module": "@jupyter-widgets/base",
          "model_name": "LayoutModel",
          "model_module_version": "1.2.0",
          "state": {
            "_model_module": "@jupyter-widgets/base",
            "_model_module_version": "1.2.0",
            "_model_name": "LayoutModel",
            "_view_count": null,
            "_view_module": "@jupyter-widgets/base",
            "_view_module_version": "1.2.0",
            "_view_name": "LayoutView",
            "align_content": null,
            "align_items": null,
            "align_self": null,
            "border": null,
            "bottom": null,
            "display": null,
            "flex": null,
            "flex_flow": null,
            "grid_area": null,
            "grid_auto_columns": null,
            "grid_auto_flow": null,
            "grid_auto_rows": null,
            "grid_column": null,
            "grid_gap": null,
            "grid_row": null,
            "grid_template_areas": null,
            "grid_template_columns": null,
            "grid_template_rows": null,
            "height": null,
            "justify_content": null,
            "justify_items": null,
            "left": null,
            "margin": null,
            "max_height": null,
            "max_width": null,
            "min_height": null,
            "min_width": null,
            "object_fit": null,
            "object_position": null,
            "order": null,
            "overflow": null,
            "overflow_x": null,
            "overflow_y": null,
            "padding": null,
            "right": null,
            "top": null,
            "visibility": null,
            "width": null
          }
        },
        "72c1694661bb4b45bf84ae44fcc47a33": {
          "model_module": "@jupyter-widgets/controls",
          "model_name": "ProgressStyleModel",
          "model_module_version": "1.5.0",
          "state": {
            "_model_module": "@jupyter-widgets/controls",
            "_model_module_version": "1.5.0",
            "_model_name": "ProgressStyleModel",
            "_view_count": null,
            "_view_module": "@jupyter-widgets/base",
            "_view_module_version": "1.2.0",
            "_view_name": "StyleView",
            "bar_color": null,
            "description_width": ""
          }
        },
        "6dca4a49cdf74950afc8a73044d027e7": {
          "model_module": "@jupyter-widgets/base",
          "model_name": "LayoutModel",
          "model_module_version": "1.2.0",
          "state": {
            "_model_module": "@jupyter-widgets/base",
            "_model_module_version": "1.2.0",
            "_model_name": "LayoutModel",
            "_view_count": null,
            "_view_module": "@jupyter-widgets/base",
            "_view_module_version": "1.2.0",
            "_view_name": "LayoutView",
            "align_content": null,
            "align_items": null,
            "align_self": null,
            "border": null,
            "bottom": null,
            "display": null,
            "flex": null,
            "flex_flow": null,
            "grid_area": null,
            "grid_auto_columns": null,
            "grid_auto_flow": null,
            "grid_auto_rows": null,
            "grid_column": null,
            "grid_gap": null,
            "grid_row": null,
            "grid_template_areas": null,
            "grid_template_columns": null,
            "grid_template_rows": null,
            "height": null,
            "justify_content": null,
            "justify_items": null,
            "left": null,
            "margin": null,
            "max_height": null,
            "max_width": null,
            "min_height": null,
            "min_width": null,
            "object_fit": null,
            "object_position": null,
            "order": null,
            "overflow": null,
            "overflow_x": null,
            "overflow_y": null,
            "padding": null,
            "right": null,
            "top": null,
            "visibility": null,
            "width": null
          }
        },
        "ebca838b35494e4f80d577dd68ffb0cd": {
          "model_module": "@jupyter-widgets/controls",
          "model_name": "DescriptionStyleModel",
          "model_module_version": "1.5.0",
          "state": {
            "_model_module": "@jupyter-widgets/controls",
            "_model_module_version": "1.5.0",
            "_model_name": "DescriptionStyleModel",
            "_view_count": null,
            "_view_module": "@jupyter-widgets/base",
            "_view_module_version": "1.2.0",
            "_view_name": "StyleView",
            "description_width": ""
          }
        }
      }
    }
  },
  "nbformat_minor": 0,
  "nbformat": 4,
  "cells": [
    {
      "cell_type": "code",
      "source": [
        "!pip install transformers"
      ],
      "metadata": {
        "colab": {
          "base_uri": "https://localhost:8080/"
        },
        "id": "uPaqgSXDa3J8",
        "outputId": "fd664828-2f31-4b65-fb55-f274ac425c6c",
        "execution": {
          "iopub.status.busy": "2023-06-21T01:58:33.705193Z",
          "iopub.execute_input": "2023-06-21T01:58:33.705608Z",
          "iopub.status.idle": "2023-06-21T01:58:45.832185Z",
          "shell.execute_reply.started": "2023-06-21T01:58:33.705570Z",
          "shell.execute_reply": "2023-06-21T01:58:45.831018Z"
        },
        "trusted": true
      },
      "execution_count": null,
      "outputs": [
        {
          "output_type": "stream",
          "name": "stdout",
          "text": [
            "Looking in indexes: https://pypi.org/simple, https://us-python.pkg.dev/colab-wheels/public/simple/\n",
            "Requirement already satisfied: transformers in /usr/local/lib/python3.10/dist-packages (4.30.2)\n",
            "Requirement already satisfied: filelock in /usr/local/lib/python3.10/dist-packages (from transformers) (3.12.2)\n",
            "Requirement already satisfied: huggingface-hub<1.0,>=0.14.1 in /usr/local/lib/python3.10/dist-packages (from transformers) (0.15.1)\n",
            "Requirement already satisfied: numpy>=1.17 in /usr/local/lib/python3.10/dist-packages (from transformers) (1.22.4)\n",
            "Requirement already satisfied: packaging>=20.0 in /usr/local/lib/python3.10/dist-packages (from transformers) (23.1)\n",
            "Requirement already satisfied: pyyaml>=5.1 in /usr/local/lib/python3.10/dist-packages (from transformers) (6.0)\n",
            "Requirement already satisfied: regex!=2019.12.17 in /usr/local/lib/python3.10/dist-packages (from transformers) (2022.10.31)\n",
            "Requirement already satisfied: requests in /usr/local/lib/python3.10/dist-packages (from transformers) (2.27.1)\n",
            "Requirement already satisfied: tokenizers!=0.11.3,<0.14,>=0.11.1 in /usr/local/lib/python3.10/dist-packages (from transformers) (0.13.3)\n",
            "Requirement already satisfied: safetensors>=0.3.1 in /usr/local/lib/python3.10/dist-packages (from transformers) (0.3.1)\n",
            "Requirement already satisfied: tqdm>=4.27 in /usr/local/lib/python3.10/dist-packages (from transformers) (4.65.0)\n",
            "Requirement already satisfied: fsspec in /usr/local/lib/python3.10/dist-packages (from huggingface-hub<1.0,>=0.14.1->transformers) (2023.6.0)\n",
            "Requirement already satisfied: typing-extensions>=3.7.4.3 in /usr/local/lib/python3.10/dist-packages (from huggingface-hub<1.0,>=0.14.1->transformers) (4.6.3)\n",
            "Requirement already satisfied: urllib3<1.27,>=1.21.1 in /usr/local/lib/python3.10/dist-packages (from requests->transformers) (1.26.16)\n",
            "Requirement already satisfied: certifi>=2017.4.17 in /usr/local/lib/python3.10/dist-packages (from requests->transformers) (2023.5.7)\n",
            "Requirement already satisfied: charset-normalizer~=2.0.0 in /usr/local/lib/python3.10/dist-packages (from requests->transformers) (2.0.12)\n",
            "Requirement already satisfied: idna<4,>=2.5 in /usr/local/lib/python3.10/dist-packages (from requests->transformers) (3.4)\n"
          ]
        }
      ]
    },
    {
      "cell_type": "code",
      "source": [
        "!export CUDA_VISIBLE_DEVICES=0"
      ],
      "metadata": {
        "execution": {
          "iopub.status.busy": "2023-06-21T01:58:45.835631Z",
          "iopub.execute_input": "2023-06-21T01:58:45.836597Z",
          "iopub.status.idle": "2023-06-21T01:58:46.781115Z",
          "shell.execute_reply.started": "2023-06-21T01:58:45.836549Z",
          "shell.execute_reply": "2023-06-21T01:58:46.779804Z"
        },
        "trusted": true,
        "id": "rjZQmqBIuMB1"
      },
      "execution_count": null,
      "outputs": []
    },
    {
      "cell_type": "code",
      "source": [
        "!pip install pandas"
      ],
      "metadata": {
        "colab": {
          "base_uri": "https://localhost:8080/"
        },
        "id": "MZ5wfaHIa8fL",
        "outputId": "468c6d9f-a808-4770-b4f4-f767c97ce66d",
        "execution": {
          "iopub.status.busy": "2023-06-21T01:58:46.782891Z",
          "iopub.execute_input": "2023-06-21T01:58:46.783521Z",
          "iopub.status.idle": "2023-06-21T01:58:57.933199Z",
          "shell.execute_reply.started": "2023-06-21T01:58:46.783478Z",
          "shell.execute_reply": "2023-06-21T01:58:57.931961Z"
        },
        "trusted": true
      },
      "execution_count": null,
      "outputs": [
        {
          "output_type": "stream",
          "name": "stdout",
          "text": [
            "Looking in indexes: https://pypi.org/simple, https://us-python.pkg.dev/colab-wheels/public/simple/\n",
            "Requirement already satisfied: pandas in /usr/local/lib/python3.10/dist-packages (1.5.3)\n",
            "Requirement already satisfied: python-dateutil>=2.8.1 in /usr/local/lib/python3.10/dist-packages (from pandas) (2.8.2)\n",
            "Requirement already satisfied: pytz>=2020.1 in /usr/local/lib/python3.10/dist-packages (from pandas) (2022.7.1)\n",
            "Requirement already satisfied: numpy>=1.21.0 in /usr/local/lib/python3.10/dist-packages (from pandas) (1.22.4)\n",
            "Requirement already satisfied: six>=1.5 in /usr/local/lib/python3.10/dist-packages (from python-dateutil>=2.8.1->pandas) (1.16.0)\n"
          ]
        }
      ]
    },
    {
      "cell_type": "code",
      "source": [
        "!git clone https://github.com/wujindou/cks23.git"
      ],
      "metadata": {
        "colab": {
          "base_uri": "https://localhost:8080/"
        },
        "id": "uGt5yK3rbAun",
        "outputId": "b4c3a957-3099-4a95-e247-89f144b909a2",
        "execution": {
          "iopub.status.busy": "2023-06-21T01:58:57.934921Z",
          "iopub.execute_input": "2023-06-21T01:58:57.935303Z",
          "iopub.status.idle": "2023-06-21T01:58:58.889693Z",
          "shell.execute_reply.started": "2023-06-21T01:58:57.935268Z",
          "shell.execute_reply": "2023-06-21T01:58:58.888499Z"
        },
        "trusted": true
      },
      "execution_count": null,
      "outputs": [
        {
          "output_type": "stream",
          "name": "stdout",
          "text": [
            "fatal: destination path 'cks23' already exists and is not an empty directory.\n"
          ]
        }
      ]
    },
    {
      "cell_type": "code",
      "source": [
        "# from google.colab import drive\n",
        "# drive.mount('/content/drive')"
      ],
      "metadata": {
        "id": "fxiCBJ0KIgsN"
      },
      "execution_count": null,
      "outputs": []
    },
    {
      "cell_type": "code",
      "source": [
        "# !ls -la /content/drive/MyDrive/bart_seq2seq_task9"
      ],
      "metadata": {
        "colab": {
          "base_uri": "https://localhost:8080/"
        },
        "id": "GtZa4UcfIdsm",
        "outputId": "5dc7fa40-ef09-461b-bc06-24eb61657ffe"
      },
      "execution_count": null,
      "outputs": [
        {
          "output_type": "stream",
          "name": "stdout",
          "text": [
            "ls: cannot access '/content/drive/MyDrive/bart_seq2seq_task9': No such file or directory\n"
          ]
        }
      ]
    },
    {
      "cell_type": "code",
      "source": [
        "!pip install xlrd"
      ],
      "metadata": {
        "execution": {
          "iopub.status.busy": "2023-06-21T01:58:58.893584Z",
          "iopub.execute_input": "2023-06-21T01:58:58.893931Z",
          "iopub.status.idle": "2023-06-21T01:59:10.459008Z",
          "shell.execute_reply.started": "2023-06-21T01:58:58.893899Z",
          "shell.execute_reply": "2023-06-21T01:59:10.457774Z"
        },
        "trusted": true,
        "colab": {
          "base_uri": "https://localhost:8080/"
        },
        "id": "9N59MTzUuMB3",
        "outputId": "5018e6fa-90f5-42b2-b246-b54b3feebb5c"
      },
      "execution_count": null,
      "outputs": [
        {
          "output_type": "stream",
          "name": "stdout",
          "text": [
            "Looking in indexes: https://pypi.org/simple, https://us-python.pkg.dev/colab-wheels/public/simple/\n",
            "Requirement already satisfied: xlrd in /usr/local/lib/python3.10/dist-packages (2.0.1)\n"
          ]
        }
      ]
    },
    {
      "cell_type": "code",
      "source": [
        "import pandas as pd\n",
        "import sys\n",
        "def read_excel(filename):\n",
        "  d = pd.read_excel(filename,sheet_name=[0])\n",
        "  query = None\n",
        "  text = None\n",
        "  entities = []\n",
        "  dataset = []\n",
        "  all_count =0\n",
        "  all_found = 0\n",
        "  for data in d[0].values:\n",
        "    if str(data[0])!='nan':\n",
        "      if query:\n",
        "        all_count+=len(entities)\n",
        "        not_found_entities = []\n",
        "        for entity in entities:\n",
        "          if entity not  in text:\n",
        "            not_found_entities.append(entity)\n",
        "        dataset.append({'query':query,'text':text.strip(),'entities':';'.join(entities)})\n",
        "        query = None\n",
        "        text = None\n",
        "        entities= []\n",
        "      query = data[0]\n",
        "      text = data[1]\n",
        "    if str(data[2])!='nan':\n",
        "      entities.append(data[2])\n",
        "  if query:\n",
        "    dataset.append({'query':query,'text':text.strip(),'entities':';'.join(entities)})\n",
        "  return dataset\n",
        "\n",
        "\n",
        "dataset = read_excel('./cks23/train_ccks.xls')\n",
        "# print(len(dataset))"
      ],
      "metadata": {
        "id": "uhCPyVA3bGBc",
        "execution": {
          "iopub.status.busy": "2023-06-21T01:59:10.460823Z",
          "iopub.execute_input": "2023-06-21T01:59:10.461553Z",
          "iopub.status.idle": "2023-06-21T01:59:10.571025Z",
          "shell.execute_reply.started": "2023-06-21T01:59:10.461512Z",
          "shell.execute_reply": "2023-06-21T01:59:10.569958Z"
        },
        "trusted": true
      },
      "execution_count": null,
      "outputs": []
    },
    {
      "cell_type": "code",
      "source": [
        "# import json\n",
        "# references = json.load(open('data_reference.json','r',encoding='utf-8'))\n",
        "# for d,ref in zip(dataset,references):\n",
        "#   d['reference'] = ref['reference']\n",
        "#   if d['query']!=ref['query']:\n",
        "#     print(d)\n",
        "#     print(ref)\n"
      ],
      "metadata": {
        "id": "PORC_RdXg7kp"
      },
      "execution_count": null,
      "outputs": []
    },
    {
      "cell_type": "code",
      "source": [
        "print(dataset[0])"
      ],
      "metadata": {
        "colab": {
          "base_uri": "https://localhost:8080/"
        },
        "id": "9ikULKBGjMf_",
        "outputId": "fd9f3ce2-7f1a-4607-84c0-6caae7a401ab"
      },
      "execution_count": null,
      "outputs": [
        {
          "output_type": "stream",
          "name": "stdout",
          "text": [
            "{'query': '湖北九有投资股份有限公司', 'text': '公司归属于造纸及纸制品行业,是一家以新闻纸生产为主业的制浆造纸企业.', 'entities': '造纸;纸制品;新闻纸', 'reference': '制浆造纸化学品;机制纸及纸板厂;纸机和造纸设备;造纸设备及配件;造纸材料;造纸化学品;机制纸浆;纸浆模塑制品;造纸厂;造纸设备;装饰原纸的研发;造纸色浆;销售纸张和印刷器材;试纸产品的研发;纸板的研发;造纸网;纸板生产设备;造纸黑液资源化利用;纸品加工;造纸酶'}\n"
          ]
        }
      ]
    },
    {
      "cell_type": "code",
      "source": [
        "import numpy as np\n",
        "import random\n",
        "import torch\n",
        "from transformers import set_seed\n",
        "set_seed(42)\n",
        "seed = 42\n",
        "random.seed(seed)\n",
        "torch.manual_seed(seed)\n",
        "torch.cuda.manual_seed(seed)\n",
        "torch.cuda.manual_seed_all(seed)\n",
        "np.random.seed(seed)\n",
        "torch.backends.cudnn.benchmark = True\n",
        "torch.backends.cudnn.deterministic = True\n",
        "train_data = dataset[:600]+dataset[650:]\n",
        "dev_data = dataset[600:650]\n",
        "print(len(train_data))\n",
        "print(len(dev_data))"
      ],
      "metadata": {
        "colab": {
          "base_uri": "https://localhost:8080/"
        },
        "id": "Pw6QIX5ZbRsr",
        "outputId": "85677279-aa30-4962-b282-41ad4cbc0da3",
        "execution": {
          "iopub.status.busy": "2023-06-21T01:59:10.573686Z",
          "iopub.execute_input": "2023-06-21T01:59:10.574031Z",
          "iopub.status.idle": "2023-06-21T01:59:17.569713Z",
          "shell.execute_reply.started": "2023-06-21T01:59:10.574001Z",
          "shell.execute_reply": "2023-06-21T01:59:17.568717Z"
        },
        "trusted": true
      },
      "execution_count": null,
      "outputs": [
        {
          "output_type": "stream",
          "name": "stdout",
          "text": [
            "650\n",
            "50\n"
          ]
        }
      ]
    },
    {
      "cell_type": "code",
      "source": [
        "!pip install datasets"
      ],
      "metadata": {
        "colab": {
          "base_uri": "https://localhost:8080/"
        },
        "id": "lpEOC9CVbqwi",
        "outputId": "16bef294-3933-43b1-a38c-8f1f5d66743b",
        "execution": {
          "iopub.status.busy": "2023-06-21T01:59:17.571245Z",
          "iopub.execute_input": "2023-06-21T01:59:17.571991Z",
          "iopub.status.idle": "2023-06-21T01:59:28.736059Z",
          "shell.execute_reply.started": "2023-06-21T01:59:17.571953Z",
          "shell.execute_reply": "2023-06-21T01:59:28.734847Z"
        },
        "trusted": true
      },
      "execution_count": null,
      "outputs": [
        {
          "output_type": "stream",
          "name": "stdout",
          "text": [
            "Looking in indexes: https://pypi.org/simple, https://us-python.pkg.dev/colab-wheels/public/simple/\n",
            "Requirement already satisfied: datasets in /usr/local/lib/python3.10/dist-packages (2.13.1)\n",
            "Requirement already satisfied: numpy>=1.17 in /usr/local/lib/python3.10/dist-packages (from datasets) (1.22.4)\n",
            "Requirement already satisfied: pyarrow>=8.0.0 in /usr/local/lib/python3.10/dist-packages (from datasets) (9.0.0)\n",
            "Requirement already satisfied: dill<0.3.7,>=0.3.0 in /usr/local/lib/python3.10/dist-packages (from datasets) (0.3.6)\n",
            "Requirement already satisfied: pandas in /usr/local/lib/python3.10/dist-packages (from datasets) (1.5.3)\n",
            "Requirement already satisfied: requests>=2.19.0 in /usr/local/lib/python3.10/dist-packages (from datasets) (2.27.1)\n",
            "Requirement already satisfied: tqdm>=4.62.1 in /usr/local/lib/python3.10/dist-packages (from datasets) (4.65.0)\n",
            "Requirement already satisfied: xxhash in /usr/local/lib/python3.10/dist-packages (from datasets) (3.2.0)\n",
            "Requirement already satisfied: multiprocess in /usr/local/lib/python3.10/dist-packages (from datasets) (0.70.14)\n",
            "Requirement already satisfied: fsspec[http]>=2021.11.1 in /usr/local/lib/python3.10/dist-packages (from datasets) (2023.6.0)\n",
            "Requirement already satisfied: aiohttp in /usr/local/lib/python3.10/dist-packages (from datasets) (3.8.4)\n",
            "Requirement already satisfied: huggingface-hub<1.0.0,>=0.11.0 in /usr/local/lib/python3.10/dist-packages (from datasets) (0.15.1)\n",
            "Requirement already satisfied: packaging in /usr/local/lib/python3.10/dist-packages (from datasets) (23.1)\n",
            "Requirement already satisfied: pyyaml>=5.1 in /usr/local/lib/python3.10/dist-packages (from datasets) (6.0)\n",
            "Requirement already satisfied: attrs>=17.3.0 in /usr/local/lib/python3.10/dist-packages (from aiohttp->datasets) (23.1.0)\n",
            "Requirement already satisfied: charset-normalizer<4.0,>=2.0 in /usr/local/lib/python3.10/dist-packages (from aiohttp->datasets) (2.0.12)\n",
            "Requirement already satisfied: multidict<7.0,>=4.5 in /usr/local/lib/python3.10/dist-packages (from aiohttp->datasets) (6.0.4)\n",
            "Requirement already satisfied: async-timeout<5.0,>=4.0.0a3 in /usr/local/lib/python3.10/dist-packages (from aiohttp->datasets) (4.0.2)\n",
            "Requirement already satisfied: yarl<2.0,>=1.0 in /usr/local/lib/python3.10/dist-packages (from aiohttp->datasets) (1.9.2)\n",
            "Requirement already satisfied: frozenlist>=1.1.1 in /usr/local/lib/python3.10/dist-packages (from aiohttp->datasets) (1.3.3)\n",
            "Requirement already satisfied: aiosignal>=1.1.2 in /usr/local/lib/python3.10/dist-packages (from aiohttp->datasets) (1.3.1)\n",
            "Requirement already satisfied: filelock in /usr/local/lib/python3.10/dist-packages (from huggingface-hub<1.0.0,>=0.11.0->datasets) (3.12.2)\n",
            "Requirement already satisfied: typing-extensions>=3.7.4.3 in /usr/local/lib/python3.10/dist-packages (from huggingface-hub<1.0.0,>=0.11.0->datasets) (4.6.3)\n",
            "Requirement already satisfied: urllib3<1.27,>=1.21.1 in /usr/local/lib/python3.10/dist-packages (from requests>=2.19.0->datasets) (1.26.16)\n",
            "Requirement already satisfied: certifi>=2017.4.17 in /usr/local/lib/python3.10/dist-packages (from requests>=2.19.0->datasets) (2023.5.7)\n",
            "Requirement already satisfied: idna<4,>=2.5 in /usr/local/lib/python3.10/dist-packages (from requests>=2.19.0->datasets) (3.4)\n",
            "Requirement already satisfied: python-dateutil>=2.8.1 in /usr/local/lib/python3.10/dist-packages (from pandas->datasets) (2.8.2)\n",
            "Requirement already satisfied: pytz>=2020.1 in /usr/local/lib/python3.10/dist-packages (from pandas->datasets) (2022.7.1)\n",
            "Requirement already satisfied: six>=1.5 in /usr/local/lib/python3.10/dist-packages (from python-dateutil>=2.8.1->pandas->datasets) (1.16.0)\n"
          ]
        }
      ]
    },
    {
      "cell_type": "code",
      "source": [
        "import pandas as pd\n",
        "import datasets\n",
        "# train_data = pd.DataFrame(converted_train_data)\n",
        "train_dataset =datasets.Dataset.from_pandas(pd.DataFrame(train_data))\n",
        "dev_dataset = datasets.Dataset.from_pandas(pd.DataFrame(dev_data))"
      ],
      "metadata": {
        "id": "ZsN1-uvJbpR2",
        "execution": {
          "iopub.status.busy": "2023-06-21T01:59:28.737912Z",
          "iopub.execute_input": "2023-06-21T01:59:28.738322Z",
          "iopub.status.idle": "2023-06-21T01:59:29.131403Z",
          "shell.execute_reply.started": "2023-06-21T01:59:28.738277Z",
          "shell.execute_reply": "2023-06-21T01:59:29.130458Z"
        },
        "trusted": true
      },
      "execution_count": null,
      "outputs": []
    },
    {
      "cell_type": "code",
      "source": [
        "!pip install sentencepiece"
      ],
      "metadata": {
        "colab": {
          "base_uri": "https://localhost:8080/"
        },
        "id": "01J4MVcq1lKF",
        "outputId": "99473473-8fbe-4ea6-b143-084055f13cb4",
        "execution": {
          "iopub.status.busy": "2023-06-21T01:59:29.132845Z",
          "iopub.execute_input": "2023-06-21T01:59:29.133573Z",
          "iopub.status.idle": "2023-06-21T01:59:40.627951Z",
          "shell.execute_reply.started": "2023-06-21T01:59:29.133535Z",
          "shell.execute_reply": "2023-06-21T01:59:40.626749Z"
        },
        "trusted": true
      },
      "execution_count": null,
      "outputs": [
        {
          "output_type": "stream",
          "name": "stdout",
          "text": [
            "Looking in indexes: https://pypi.org/simple, https://us-python.pkg.dev/colab-wheels/public/simple/\n",
            "Requirement already satisfied: sentencepiece in /usr/local/lib/python3.10/dist-packages (0.1.99)\n"
          ]
        }
      ]
    },
    {
      "cell_type": "code",
      "source": [
        "import os\n",
        "os.environ[\"WANDB_DISABLED\"] = \"true\"\n",
        "checkpoint='fnlp/bart-large-chinese'\n",
        "from transformers import AutoTokenizer\n",
        "tokenizer = AutoTokenizer.from_pretrained(checkpoint,use_fast=False)\n",
        "def preprocess_function(example):\n",
        "  model_inputs = tokenizer(example['text']+'[SEP]'+example['reference'], truncation=True, padding=\"max_length\", max_length=256)\n",
        "  labels = tokenizer(text_target=example[\"entities\"], max_length=128, truncation=True)\n",
        "  model_inputs['labels'] = labels['input_ids']\n",
        "  return model_inputs\n",
        "\n",
        "ds={'train':train_dataset,'validation':dev_dataset}\n",
        "for split in ds:\n",
        "  ds[split] = ds[split].map(preprocess_function)"
      ],
      "metadata": {
        "colab": {
          "base_uri": "https://localhost:8080/",
          "height": 17,
          "referenced_widgets": [
            "54f21a5e86c944878639a405834dfc51",
            "1cf2b3a96d0b430292929e0db64d3abf",
            "8ba9334cd9fd41bfb5733e9f2ee14243",
            "f6eb8ed1556245f3b9404420bc85c5f1",
            "5d9a5499ef7b467587d3c5678ade492b",
            "9cb253ecfbc045229bb6e179b202d12a",
            "393deac5b6a443ba9004763119b7a9a3",
            "1d498345a2a04f71a9c6d0f8a9f6312d",
            "7b61bfe74800435c9c9bccb1946c1b96",
            "c08c8dc6fa7647a682a32ccaf540a11c",
            "89f226fb7a7b4c68a4c4b5ccfa26df51",
            "9a04e32cafe442e69f58a9535454def2",
            "1854610f5f0b464c9d2e910235c653f9",
            "70d19cd240004a75b735e02bc8737e61",
            "dd58d7f080ad439180f1a27fabeb1edd",
            "597efe88962449c08cd3695864065806",
            "f7cc1e7f78f14d5491b69f71dc94d3b8",
            "3bb7d19ef4e244789c667c8c1d9490e7",
            "1f56148a366d43f580c979da098ba20f",
            "72c1694661bb4b45bf84ae44fcc47a33",
            "6dca4a49cdf74950afc8a73044d027e7",
            "ebca838b35494e4f80d577dd68ffb0cd"
          ]
        },
        "id": "FTqZu7Aeb1G5",
        "outputId": "8fbcf487-15b3-48f9-8c32-924802822256",
        "execution": {
          "iopub.status.busy": "2023-06-21T01:59:40.630132Z",
          "iopub.execute_input": "2023-06-21T01:59:40.630521Z",
          "iopub.status.idle": "2023-06-21T01:59:42.077793Z",
          "shell.execute_reply.started": "2023-06-21T01:59:40.630479Z",
          "shell.execute_reply": "2023-06-21T01:59:42.076892Z"
        },
        "trusted": true
      },
      "execution_count": null,
      "outputs": [
        {
          "output_type": "display_data",
          "data": {
            "text/plain": [
              "Map:   0%|          | 0/650 [00:00<?, ? examples/s]"
            ],
            "application/vnd.jupyter.widget-view+json": {
              "version_major": 2,
              "version_minor": 0,
              "model_id": "54f21a5e86c944878639a405834dfc51"
            }
          },
          "metadata": {}
        },
        {
          "output_type": "display_data",
          "data": {
            "text/plain": [
              "Map:   0%|          | 0/50 [00:00<?, ? examples/s]"
            ],
            "application/vnd.jupyter.widget-view+json": {
              "version_major": 2,
              "version_minor": 0,
              "model_id": "9a04e32cafe442e69f58a9535454def2"
            }
          },
          "metadata": {}
        }
      ]
    },
    {
      "cell_type": "code",
      "source": [
        "from transformers import DataCollatorForSeq2Seq\n",
        "data_collator = DataCollatorForSeq2Seq(tokenizer=tokenizer, model=checkpoint)"
      ],
      "metadata": {
        "id": "7RFsQh0UcG7I",
        "execution": {
          "iopub.status.busy": "2023-06-21T01:59:42.079419Z",
          "iopub.execute_input": "2023-06-21T01:59:42.079815Z",
          "iopub.status.idle": "2023-06-21T01:59:42.988323Z",
          "shell.execute_reply.started": "2023-06-21T01:59:42.079779Z",
          "shell.execute_reply": "2023-06-21T01:59:42.987352Z"
        },
        "trusted": true
      },
      "execution_count": null,
      "outputs": []
    },
    {
      "cell_type": "code",
      "source": [
        "!pip install rouge_score rouge"
      ],
      "metadata": {
        "colab": {
          "base_uri": "https://localhost:8080/"
        },
        "id": "g8tikF4dcNEd",
        "outputId": "be042432-b7b7-40a2-ff52-4c9cee795598",
        "execution": {
          "iopub.status.busy": "2023-06-21T01:59:42.989690Z",
          "iopub.execute_input": "2023-06-21T01:59:42.991683Z",
          "iopub.status.idle": "2023-06-21T01:59:54.082725Z",
          "shell.execute_reply.started": "2023-06-21T01:59:42.991647Z",
          "shell.execute_reply": "2023-06-21T01:59:54.081499Z"
        },
        "trusted": true
      },
      "execution_count": null,
      "outputs": [
        {
          "output_type": "stream",
          "name": "stdout",
          "text": [
            "Looking in indexes: https://pypi.org/simple, https://us-python.pkg.dev/colab-wheels/public/simple/\n",
            "Requirement already satisfied: rouge_score in /usr/local/lib/python3.10/dist-packages (0.1.2)\n",
            "Requirement already satisfied: rouge in /usr/local/lib/python3.10/dist-packages (1.0.1)\n",
            "Requirement already satisfied: absl-py in /usr/local/lib/python3.10/dist-packages (from rouge_score) (1.4.0)\n",
            "Requirement already satisfied: nltk in /usr/local/lib/python3.10/dist-packages (from rouge_score) (3.8.1)\n",
            "Requirement already satisfied: numpy in /usr/local/lib/python3.10/dist-packages (from rouge_score) (1.22.4)\n",
            "Requirement already satisfied: six>=1.14.0 in /usr/local/lib/python3.10/dist-packages (from rouge_score) (1.16.0)\n",
            "Requirement already satisfied: click in /usr/local/lib/python3.10/dist-packages (from nltk->rouge_score) (8.1.3)\n",
            "Requirement already satisfied: joblib in /usr/local/lib/python3.10/dist-packages (from nltk->rouge_score) (1.2.0)\n",
            "Requirement already satisfied: regex>=2021.8.3 in /usr/local/lib/python3.10/dist-packages (from nltk->rouge_score) (2022.10.31)\n",
            "Requirement already satisfied: tqdm in /usr/local/lib/python3.10/dist-packages (from nltk->rouge_score) (4.65.0)\n"
          ]
        }
      ]
    },
    {
      "cell_type": "code",
      "source": [
        "!pip install --upgrade accelerate"
      ],
      "metadata": {
        "execution": {
          "iopub.status.busy": "2023-06-21T01:59:54.088672Z",
          "iopub.execute_input": "2023-06-21T01:59:54.089035Z",
          "iopub.status.idle": "2023-06-21T02:00:05.401773Z",
          "shell.execute_reply.started": "2023-06-21T01:59:54.088999Z",
          "shell.execute_reply": "2023-06-21T02:00:05.400570Z"
        },
        "trusted": true,
        "colab": {
          "base_uri": "https://localhost:8080/"
        },
        "id": "2dNnhZuxuMB8",
        "outputId": "0cd29e77-4238-4dd9-8497-e9652dae1f84"
      },
      "execution_count": null,
      "outputs": [
        {
          "output_type": "stream",
          "name": "stdout",
          "text": [
            "Looking in indexes: https://pypi.org/simple, https://us-python.pkg.dev/colab-wheels/public/simple/\n",
            "Requirement already satisfied: accelerate in /usr/local/lib/python3.10/dist-packages (0.20.3)\n",
            "Requirement already satisfied: numpy>=1.17 in /usr/local/lib/python3.10/dist-packages (from accelerate) (1.22.4)\n",
            "Requirement already satisfied: packaging>=20.0 in /usr/local/lib/python3.10/dist-packages (from accelerate) (23.1)\n",
            "Requirement already satisfied: psutil in /usr/local/lib/python3.10/dist-packages (from accelerate) (5.9.5)\n",
            "Requirement already satisfied: pyyaml in /usr/local/lib/python3.10/dist-packages (from accelerate) (6.0)\n",
            "Requirement already satisfied: torch>=1.6.0 in /usr/local/lib/python3.10/dist-packages (from accelerate) (2.0.1+cu118)\n",
            "Requirement already satisfied: filelock in /usr/local/lib/python3.10/dist-packages (from torch>=1.6.0->accelerate) (3.12.2)\n",
            "Requirement already satisfied: typing-extensions in /usr/local/lib/python3.10/dist-packages (from torch>=1.6.0->accelerate) (4.6.3)\n",
            "Requirement already satisfied: sympy in /usr/local/lib/python3.10/dist-packages (from torch>=1.6.0->accelerate) (1.11.1)\n",
            "Requirement already satisfied: networkx in /usr/local/lib/python3.10/dist-packages (from torch>=1.6.0->accelerate) (3.1)\n",
            "Requirement already satisfied: jinja2 in /usr/local/lib/python3.10/dist-packages (from torch>=1.6.0->accelerate) (3.1.2)\n",
            "Requirement already satisfied: triton==2.0.0 in /usr/local/lib/python3.10/dist-packages (from torch>=1.6.0->accelerate) (2.0.0)\n",
            "Requirement already satisfied: cmake in /usr/local/lib/python3.10/dist-packages (from triton==2.0.0->torch>=1.6.0->accelerate) (3.25.2)\n",
            "Requirement already satisfied: lit in /usr/local/lib/python3.10/dist-packages (from triton==2.0.0->torch>=1.6.0->accelerate) (16.0.6)\n",
            "Requirement already satisfied: MarkupSafe>=2.0 in /usr/local/lib/python3.10/dist-packages (from jinja2->torch>=1.6.0->accelerate) (2.1.3)\n",
            "Requirement already satisfied: mpmath>=0.19 in /usr/local/lib/python3.10/dist-packages (from sympy->torch>=1.6.0->accelerate) (1.3.0)\n"
          ]
        }
      ]
    },
    {
      "cell_type": "code",
      "source": [
        "# import evaluate\n",
        "from rouge import Rouge\n",
        "rouge_score = Rouge()\n",
        "# rouge = evaluate.load(\"rouge\")\n",
        "\n",
        "\"\"\"Then create a function that passes your predictions and labels to [compute](https://huggingface.co/docs/evaluate/main/en/package_reference/main_classes#evaluate.EvaluationModule.compute) to calculate the ROUGE metric:\"\"\"\n",
        "\n",
        "import numpy as np\n",
        "\n",
        "\n",
        "def compute_metrics(eval_pred):\n",
        "    predictions, labels = eval_pred\n",
        "    decoded_preds = tokenizer.batch_decode(predictions, skip_special_tokens=True)\n",
        "    labels = np.where(labels != -100, labels, tokenizer.pad_token_id)\n",
        "    decoded_labels = tokenizer.batch_decode(labels, skip_special_tokens=True)\n",
        "    print(decoded_preds[0]+'\\t'+decoded_labels[0])\n",
        "    decoded_labels=['no' if t.strip()=='' else t for t in decoded_labels]\n",
        "    decoded_preds=['no' if t.strip()=='' else t for t in decoded_preds]\n",
        "\n",
        "    scores = rouge_score.get_scores(decoded_preds,decoded_labels,avg=True)\n",
        "    for key in scores:\n",
        "      scores[key] = scores[key]['f']*100\n",
        "    result = scores\n",
        "    #result = rouge.compute(predictions=decoded_preds, references=decoded_labels, use_stemmer=True)\n",
        "\n",
        "    prediction_lens = [np.count_nonzero(pred != tokenizer.pad_token_id) for pred in predictions]\n",
        "    result[\"gen_len\"] = np.mean(prediction_lens)\n",
        "\n",
        "    return {k: round(v, 4) for k, v in result.items()}"
      ],
      "metadata": {
        "id": "C9GOwhp-cUoG",
        "execution": {
          "iopub.status.busy": "2023-06-21T02:00:05.404292Z",
          "iopub.execute_input": "2023-06-21T02:00:05.404701Z",
          "iopub.status.idle": "2023-06-21T02:00:05.420226Z",
          "shell.execute_reply.started": "2023-06-21T02:00:05.404658Z",
          "shell.execute_reply": "2023-06-21T02:00:05.419201Z"
        },
        "trusted": true
      },
      "execution_count": null,
      "outputs": []
    },
    {
      "cell_type": "code",
      "source": [
        "from transformers import AutoModelForSeq2SeqLM, Seq2SeqTrainingArguments, Seq2SeqTrainer\n",
        "\n",
        "def get_model():\n",
        "    # get_model is used for the model_init argument for trainer. This ensures reproducibility. Otherwise, weights from classification head are randomly initialized.\n",
        "    # see https://discuss.huggingface.co/t/fixing-the-random-seed-in-the-trainer-does-not-produce-the-same-results-across-runs/3442\n",
        "    model = AutoModelForSeq2SeqLM.from_pretrained(checkpoint)\n",
        "    return model\n"
      ],
      "metadata": {
        "id": "y-fUB_iicaBh",
        "execution": {
          "iopub.status.busy": "2023-06-21T02:00:05.422057Z",
          "iopub.execute_input": "2023-06-21T02:00:05.422463Z",
          "iopub.status.idle": "2023-06-21T02:00:06.089765Z",
          "shell.execute_reply.started": "2023-06-21T02:00:05.422428Z",
          "shell.execute_reply": "2023-06-21T02:00:06.088813Z"
        },
        "trusted": true
      },
      "execution_count": null,
      "outputs": []
    },
    {
      "cell_type": "code",
      "source": [
        "!pip install accelerate -U"
      ],
      "metadata": {
        "colab": {
          "base_uri": "https://localhost:8080/"
        },
        "id": "YqgYuRgvcmbz",
        "outputId": "82c9bbd0-4af8-413e-bc5f-57049c39202b",
        "execution": {
          "iopub.status.busy": "2023-06-21T02:00:06.091429Z",
          "iopub.execute_input": "2023-06-21T02:00:06.091815Z",
          "iopub.status.idle": "2023-06-21T02:00:17.714789Z",
          "shell.execute_reply.started": "2023-06-21T02:00:06.091752Z",
          "shell.execute_reply": "2023-06-21T02:00:17.713455Z"
        },
        "trusted": true
      },
      "execution_count": null,
      "outputs": [
        {
          "output_type": "stream",
          "name": "stdout",
          "text": [
            "Looking in indexes: https://pypi.org/simple, https://us-python.pkg.dev/colab-wheels/public/simple/\n",
            "Requirement already satisfied: accelerate in /usr/local/lib/python3.10/dist-packages (0.20.3)\n",
            "Requirement already satisfied: numpy>=1.17 in /usr/local/lib/python3.10/dist-packages (from accelerate) (1.22.4)\n",
            "Requirement already satisfied: packaging>=20.0 in /usr/local/lib/python3.10/dist-packages (from accelerate) (23.1)\n",
            "Requirement already satisfied: psutil in /usr/local/lib/python3.10/dist-packages (from accelerate) (5.9.5)\n",
            "Requirement already satisfied: pyyaml in /usr/local/lib/python3.10/dist-packages (from accelerate) (6.0)\n",
            "Requirement already satisfied: torch>=1.6.0 in /usr/local/lib/python3.10/dist-packages (from accelerate) (2.0.1+cu118)\n",
            "Requirement already satisfied: filelock in /usr/local/lib/python3.10/dist-packages (from torch>=1.6.0->accelerate) (3.12.2)\n",
            "Requirement already satisfied: typing-extensions in /usr/local/lib/python3.10/dist-packages (from torch>=1.6.0->accelerate) (4.6.3)\n",
            "Requirement already satisfied: sympy in /usr/local/lib/python3.10/dist-packages (from torch>=1.6.0->accelerate) (1.11.1)\n",
            "Requirement already satisfied: networkx in /usr/local/lib/python3.10/dist-packages (from torch>=1.6.0->accelerate) (3.1)\n",
            "Requirement already satisfied: jinja2 in /usr/local/lib/python3.10/dist-packages (from torch>=1.6.0->accelerate) (3.1.2)\n",
            "Requirement already satisfied: triton==2.0.0 in /usr/local/lib/python3.10/dist-packages (from torch>=1.6.0->accelerate) (2.0.0)\n",
            "Requirement already satisfied: cmake in /usr/local/lib/python3.10/dist-packages (from triton==2.0.0->torch>=1.6.0->accelerate) (3.25.2)\n",
            "Requirement already satisfied: lit in /usr/local/lib/python3.10/dist-packages (from triton==2.0.0->torch>=1.6.0->accelerate) (16.0.6)\n",
            "Requirement already satisfied: MarkupSafe>=2.0 in /usr/local/lib/python3.10/dist-packages (from jinja2->torch>=1.6.0->accelerate) (2.1.3)\n",
            "Requirement already satisfied: mpmath>=0.19 in /usr/local/lib/python3.10/dist-packages (from sympy->torch>=1.6.0->accelerate) (1.3.0)\n"
          ]
        }
      ]
    },
    {
      "cell_type": "code",
      "source": [
        "# !export CUDA_VISIBLE_DEVICES=1"
      ],
      "metadata": {
        "execution": {
          "iopub.status.busy": "2023-06-21T02:00:17.718318Z",
          "iopub.execute_input": "2023-06-21T02:00:17.718655Z",
          "iopub.status.idle": "2023-06-21T02:00:17.725555Z",
          "shell.execute_reply.started": "2023-06-21T02:00:17.718621Z",
          "shell.execute_reply": "2023-06-21T02:00:17.724572Z"
        },
        "trusted": true,
        "id": "RuRI8l1yuMB-"
      },
      "execution_count": null,
      "outputs": []
    },
    {
      "cell_type": "code",
      "source": [
        "training_args = Seq2SeqTrainingArguments(\n",
        "    output_dir=\"bart_seq2seq_task9\",\n",
        "    evaluation_strategy=\"steps\",\n",
        "    learning_rate=5e-5,\n",
        "    per_device_train_batch_size=8,\n",
        "    gradient_accumulation_steps=4,\n",
        "    per_device_eval_batch_size=16,\n",
        "    weight_decay=0.01,\n",
        "    save_total_limit=1,\n",
        "    num_train_epochs=3,\n",
        "    predict_with_generate=True,\n",
        "    fp16=True,\n",
        "    report_to='tensorboard',\n",
        "    load_best_model_at_end=True,\n",
        "    save_strategy='steps',\n",
        "    eval_steps=20,\n",
        "    save_steps=20,\n",
        "    seed=42\n",
        "\n",
        ")\n",
        "\n",
        "trainer = Seq2SeqTrainer(\n",
        "    model_init=get_model,\n",
        "    args=training_args,\n",
        "    train_dataset=ds[\"train\"],\n",
        "    eval_dataset=ds[\"validation\"],\n",
        "    tokenizer=tokenizer,\n",
        "    data_collator=data_collator,\n",
        "    compute_metrics=compute_metrics,\n",
        ")\n",
        "\n",
        "trainer.train()"
      ],
      "metadata": {
        "colab": {
          "base_uri": "https://localhost:8080/",
          "height": 318
        },
        "id": "_D4HTPWUcfCe",
        "outputId": "be1a9447-63f7-4ec7-c1c0-270c718fe416",
        "execution": {
          "iopub.status.busy": "2023-06-21T02:00:17.727484Z",
          "iopub.execute_input": "2023-06-21T02:00:17.728249Z",
          "iopub.status.idle": "2023-06-21T02:03:32.592710Z",
          "shell.execute_reply.started": "2023-06-21T02:00:17.728213Z",
          "shell.execute_reply": "2023-06-21T02:03:32.591406Z"
        },
        "trusted": true
      },
      "execution_count": null,
      "outputs": [
        {
          "output_type": "stream",
          "name": "stderr",
          "text": [
            "/usr/local/lib/python3.10/dist-packages/transformers/optimization.py:411: FutureWarning: This implementation of AdamW is deprecated and will be removed in a future version. Use the PyTorch implementation torch.optim.AdamW instead, or set `no_deprecation_warning=True` to disable this warning\n",
            "  warnings.warn(\n"
          ]
        },
        {
          "output_type": "display_data",
          "data": {
            "text/plain": [
              "<IPython.core.display.HTML object>"
            ],
            "text/html": [
              "\n",
              "    <div>\n",
              "      \n",
              "      <progress value='60' max='60' style='width:300px; height:20px; vertical-align: middle;'></progress>\n",
              "      [60/60 03:49, Epoch 2/3]\n",
              "    </div>\n",
              "    <table border=\"1\" class=\"dataframe\">\n",
              "  <thead>\n",
              " <tr style=\"text-align: left;\">\n",
              "      <th>Epoch</th>\n",
              "      <th>Training Loss</th>\n",
              "      <th>Validation Loss</th>\n",
              "      <th>Rouge-1</th>\n",
              "      <th>Rouge-2</th>\n",
              "      <th>Rouge-l</th>\n",
              "      <th>Gen Len</th>\n",
              "    </tr>\n",
              "  </thead>\n",
              "  <tbody>\n",
              "    <tr>\n",
              "      <td>0</td>\n",
              "      <td>No log</td>\n",
              "      <td>0.366372</td>\n",
              "      <td>73.991300</td>\n",
              "      <td>64.145900</td>\n",
              "      <td>72.811400</td>\n",
              "      <td>17.320000</td>\n",
              "    </tr>\n",
              "    <tr>\n",
              "      <td>2</td>\n",
              "      <td>No log</td>\n",
              "      <td>0.327724</td>\n",
              "      <td>76.580800</td>\n",
              "      <td>66.975600</td>\n",
              "      <td>75.340900</td>\n",
              "      <td>17.500000</td>\n",
              "    </tr>\n",
              "    <tr>\n",
              "      <td>2</td>\n",
              "      <td>No log</td>\n",
              "      <td>0.333880</td>\n",
              "      <td>77.280000</td>\n",
              "      <td>66.907600</td>\n",
              "      <td>76.023800</td>\n",
              "      <td>17.560000</td>\n",
              "    </tr>\n",
              "  </tbody>\n",
              "</table><p>"
            ]
          },
          "metadata": {}
        },
        {
          "output_type": "stream",
          "name": "stdout",
          "text": [
            "轴 流 风 机 的 研 究 、 开 发 、 生 产 、 销 售 和\t轴 流 、 混 流 、 离 心 风 机 的 研 究 、 开 发 、 生 产 、 销 售 和 技 术 服 务 ; 风 冷 装 备 的 研 究 、 开 发 、 生 产 、 销 售 和 技 术 服 务 ; 水 冷 装 备 的 研 究 、 开 发 、 生 产 、 销 售 和 技 术 服 务 ; 速 冻 装 备 的 研 究 、 开 发 、 生 产 、 销 售 和 技 术 服 务\n",
            "高 新 技 术 产 品 的 研 究 、 开 发 、 生 产 、 销\t轴 流 、 混 流 、 离 心 风 机 的 研 究 、 开 发 、 生 产 、 销 售 和 技 术 服 务 ; 风 冷 装 备 的 研 究 、 开 发 、 生 产 、 销 售 和 技 术 服 务 ; 水 冷 装 备 的 研 究 、 开 发 、 生 产 、 销 售 和 技 术 服 务 ; 速 冻 装 备 的 研 究 、 开 发 、 生 产 、 销 售 和 技 术 服 务\n",
            "轴 流 风 机 的 研 究 、 开 发 、 生 产 、 销 售 和\t轴 流 、 混 流 、 离 心 风 机 的 研 究 、 开 发 、 生 产 、 销 售 和 技 术 服 务 ; 风 冷 装 备 的 研 究 、 开 发 、 生 产 、 销 售 和 技 术 服 务 ; 水 冷 装 备 的 研 究 、 开 发 、 生 产 、 销 售 和 技 术 服 务 ; 速 冻 装 备 的 研 究 、 开 发 、 生 产 、 销 售 和 技 术 服 务\n"
          ]
        },
        {
          "output_type": "execute_result",
          "data": {
            "text/plain": [
              "TrainOutput(global_step=60, training_loss=0.5190938949584961, metrics={'train_runtime': 230.6572, 'train_samples_per_second': 8.454, 'train_steps_per_second': 0.26, 'total_flos': 1033708895207424.0, 'train_loss': 0.5190938949584961, 'epoch': 2.93})"
            ]
          },
          "metadata": {},
          "execution_count": 44
        }
      ]
    },
    {
      "cell_type": "code",
      "source": [],
      "metadata": {
        "id": "KOrPhLXq8D-Z"
      },
      "execution_count": null,
      "outputs": []
    },
    {
      "cell_type": "code",
      "source": [
        "trainer.save_model('./bart_seq2seq_task9')"
      ],
      "metadata": {
        "id": "iEMGx16Ufe0v",
        "execution": {
          "iopub.status.busy": "2023-06-21T02:03:32.594205Z",
          "iopub.execute_input": "2023-06-21T02:03:32.594661Z",
          "iopub.status.idle": "2023-06-21T02:03:40.147720Z",
          "shell.execute_reply.started": "2023-06-21T02:03:32.594625Z",
          "shell.execute_reply": "2023-06-21T02:03:40.146684Z"
        },
        "trusted": true
      },
      "execution_count": null,
      "outputs": []
    },
    {
      "cell_type": "code",
      "source": [
        "from transformers import AutoTokenizer\n",
        "# checkpoint ='t5-large'\n",
        "# folder='/content/drive/MyDrive/bart_seq2seq_task9'\n",
        "folder = './bart_seq2seq_task9'\n",
        "tokenizer = AutoTokenizer.from_pretrained(checkpoint)\n",
        "from transformers import AutoModelForSeq2SeqLM, Seq2SeqTrainingArguments, Seq2SeqTrainer\n",
        "\n",
        "model = AutoModelForSeq2SeqLM.from_pretrained(folder)"
      ],
      "metadata": {
        "id": "_JQZvQnferp3",
        "execution": {
          "iopub.status.busy": "2023-06-21T02:03:40.149069Z",
          "iopub.execute_input": "2023-06-21T02:03:40.150358Z",
          "iopub.status.idle": "2023-06-21T02:03:45.675934Z",
          "shell.execute_reply.started": "2023-06-21T02:03:40.150320Z",
          "shell.execute_reply": "2023-06-21T02:03:45.674820Z"
        },
        "trusted": true
      },
      "execution_count": null,
      "outputs": []
    },
    {
      "cell_type": "code",
      "source": [
        "import torch\n",
        "device = torch.device('cuda')\n",
        "model.to(device)"
      ],
      "metadata": {
        "colab": {
          "base_uri": "https://localhost:8080/"
        },
        "id": "wd7y4XKwfbNV",
        "outputId": "06f518f6-bd08-406a-d956-2f29b27c06b2",
        "execution": {
          "iopub.status.busy": "2023-06-21T02:03:45.677640Z",
          "iopub.execute_input": "2023-06-21T02:03:45.678025Z",
          "iopub.status.idle": "2023-06-21T02:03:46.077146Z",
          "shell.execute_reply.started": "2023-06-21T02:03:45.677988Z",
          "shell.execute_reply": "2023-06-21T02:03:46.076038Z"
        },
        "trusted": true
      },
      "execution_count": null,
      "outputs": [
        {
          "output_type": "execute_result",
          "data": {
            "text/plain": [
              "BartForConditionalGeneration(\n",
              "  (model): BartModel(\n",
              "    (shared): Embedding(51271, 1024, padding_idx=0)\n",
              "    (encoder): BartEncoder(\n",
              "      (embed_tokens): Embedding(51271, 1024, padding_idx=0)\n",
              "      (embed_positions): BartLearnedPositionalEmbedding(1026, 1024)\n",
              "      (layers): ModuleList(\n",
              "        (0-11): 12 x BartEncoderLayer(\n",
              "          (self_attn): BartAttention(\n",
              "            (k_proj): Linear(in_features=1024, out_features=1024, bias=True)\n",
              "            (v_proj): Linear(in_features=1024, out_features=1024, bias=True)\n",
              "            (q_proj): Linear(in_features=1024, out_features=1024, bias=True)\n",
              "            (out_proj): Linear(in_features=1024, out_features=1024, bias=True)\n",
              "          )\n",
              "          (self_attn_layer_norm): LayerNorm((1024,), eps=1e-05, elementwise_affine=True)\n",
              "          (activation_fn): GELUActivation()\n",
              "          (fc1): Linear(in_features=1024, out_features=4096, bias=True)\n",
              "          (fc2): Linear(in_features=4096, out_features=1024, bias=True)\n",
              "          (final_layer_norm): LayerNorm((1024,), eps=1e-05, elementwise_affine=True)\n",
              "        )\n",
              "      )\n",
              "      (layernorm_embedding): LayerNorm((1024,), eps=1e-05, elementwise_affine=True)\n",
              "    )\n",
              "    (decoder): BartDecoder(\n",
              "      (embed_tokens): Embedding(51271, 1024, padding_idx=0)\n",
              "      (embed_positions): BartLearnedPositionalEmbedding(1026, 1024)\n",
              "      (layers): ModuleList(\n",
              "        (0-11): 12 x BartDecoderLayer(\n",
              "          (self_attn): BartAttention(\n",
              "            (k_proj): Linear(in_features=1024, out_features=1024, bias=True)\n",
              "            (v_proj): Linear(in_features=1024, out_features=1024, bias=True)\n",
              "            (q_proj): Linear(in_features=1024, out_features=1024, bias=True)\n",
              "            (out_proj): Linear(in_features=1024, out_features=1024, bias=True)\n",
              "          )\n",
              "          (activation_fn): GELUActivation()\n",
              "          (self_attn_layer_norm): LayerNorm((1024,), eps=1e-05, elementwise_affine=True)\n",
              "          (encoder_attn): BartAttention(\n",
              "            (k_proj): Linear(in_features=1024, out_features=1024, bias=True)\n",
              "            (v_proj): Linear(in_features=1024, out_features=1024, bias=True)\n",
              "            (q_proj): Linear(in_features=1024, out_features=1024, bias=True)\n",
              "            (out_proj): Linear(in_features=1024, out_features=1024, bias=True)\n",
              "          )\n",
              "          (encoder_attn_layer_norm): LayerNorm((1024,), eps=1e-05, elementwise_affine=True)\n",
              "          (fc1): Linear(in_features=1024, out_features=4096, bias=True)\n",
              "          (fc2): Linear(in_features=4096, out_features=1024, bias=True)\n",
              "          (final_layer_norm): LayerNorm((1024,), eps=1e-05, elementwise_affine=True)\n",
              "        )\n",
              "      )\n",
              "      (layernorm_embedding): LayerNorm((1024,), eps=1e-05, elementwise_affine=True)\n",
              "    )\n",
              "  )\n",
              "  (lm_head): Linear(in_features=1024, out_features=51271, bias=False)\n",
              ")"
            ]
          },
          "metadata": {},
          "execution_count": 47
        }
      ]
    },
    {
      "cell_type": "code",
      "source": [
        "best_precision = 0\n",
        "best_beam = 0\n",
        "for beamsize in [1]:\n",
        "    preds = []\n",
        "    def inference(model,inputs,max_s_length=128,max_target_length=384):\n",
        "        padding=True\n",
        "        model_inputs = tokenizer(inputs,max_length=max_s_length, padding=padding, truncation=True,return_tensors='pt').input_ids\n",
        "        outputs= model.generate(model_inputs.to(device),max_length=max_target_length)\n",
        "        return tokenizer.batch_decode(outputs, skip_special_tokens=True)\n",
        "\n",
        "    def inference_with_file(dataset,batch_size=1):\n",
        "        import json\n",
        "        results =[]\n",
        "        batch_data = []\n",
        "        for idx,data in enumerate(dataset):\n",
        "          batch_data.append(data['text']+'[SEP]'+data['reference'])\n",
        "          if len(batch_data)==batch_size:\n",
        "              # print(batch_data)\n",
        "              # sys.exit(1)\n",
        "              batch_preds = inference(model,batch_data)\n",
        "              # print(batch_preds)\n",
        "              batch_data = []\n",
        "              results.extend(batch_preds)\n",
        "        if len(batch_data)>0:\n",
        "          batch_preds = inference(model,batch_data)\n",
        "          results.extend(batch_preds)\n",
        "        print(len(results))\n",
        "        return results\n",
        "    results = inference_with_file(dev_data)\n",
        "    precision = 0\n",
        "    found = 0\n",
        "    recall = 0\n",
        "    right = 0\n",
        "    for d,pred in zip(dev_data,results):\n",
        "      gold_entities = d['entities'].split(';')\n",
        "      pred_entity = pred.replace(' ','').split(';')\n",
        "      recall += len(gold_entities)\n",
        "      for p in pred_entity:\n",
        "        if p in gold_entities:\n",
        "          right+=1\n",
        "        found+=1\n",
        "      print(d['text']+'\\t pred='+pred.replace(' ','')+'\\t entity='+d['entities'])\n",
        "    precision = float(right)/found\n",
        "    recall = float(right)/recall\n",
        "    print('f1 = '+str(2*precision*recall/(precision+recall))+'\\t p='+str(precision)+'\\t r='+str(recall))\n",
        "    if precision >best_precision :\n",
        "        best_precision = precision\n",
        "        best_beam = beamsize\n",
        "        print('best_precsion = '+str(best_precision)+'\\t'+str(beamsize))\n"
      ],
      "metadata": {
        "colab": {
          "base_uri": "https://localhost:8080/"
        },
        "id": "sk38c_ATga5d",
        "outputId": "18c60297-cb95-4875-8e95-b7c777addde0",
        "execution": {
          "iopub.status.busy": "2023-06-21T02:03:46.078750Z",
          "iopub.execute_input": "2023-06-21T02:03:46.079143Z"
        },
        "trusted": true
      },
      "execution_count": null,
      "outputs": [
        {
          "output_type": "stream",
          "name": "stdout",
          "text": [
            "50\n",
            "各类轴流风机、混流风机、离心风机和各类风冷、水冷、速冻装备等高新技术产品的研究、开发、生产、销售和技术服务。\t pred=高新技术产品的研究、开发、生产、销售和技术服务\t entity=轴流、混流、离心风机的研究、开发、生产、销售和技术服务;风冷装备的研究、开发、生产、销售和技术服务;水冷装备的研究、开发、生产、销售和技术服务;速冻装备的研究、开发、生产、销售和技术服务\n",
            "原煤、焦炭、精煤、中煤、煤气以及焦油、 轻苯等煤化工产品的生产和销售等\t pred=原煤、焦炭、精煤、中煤、煤气以及焦油、轻苯等煤化工产品的生产和销售\t entity=煤化工产品的生产和销售\n",
            "新材料与制品及其生产工艺装备的研究、开发、设计、生产和销售。\t pred=新材料与制品及其生产工艺装备的研究、开发、设计、生产和销售\t entity=新材料的研究、开发、设计、生产和销售;生产工艺装备的研究、开发、设计、生产和销售\n",
            "公司主要从事稀土永磁材料和新型磁性材料及其应用产品的研究开发、生产和销售\t pred=稀土永磁材料的研究开发、生产和销售\t entity=稀土永磁材料及其应用产品的研究开发、生产和销售;新型磁性材料及其应用产品的研究开发、生产和销售\n",
            "高档精毛纺呢绒面料的开发、生产、销售为主要业务。\t pred=精毛纺呢绒面料的开发、生产、销售\t entity=高档精毛纺呢绒面料的开发、生产、销售\n",
            "集番茄种植、生产、加工、贸易、科研开发为一体的农业产业化国家重点龙头企业.公司主要产品有番茄原料酱、番茄制品及蔬菜罐头制品等\t pred=番茄原料酱;番茄制品;蔬菜罐头制品\t entity=番茄种植、生产、加工、贸易、科研开发;番茄原料酱、番茄制品的生产销售;蔬菜罐头制品的生产、销售\n",
            "各类塑料制品、粘胶制品、各类包装及印刷复合制品和塑料加工设备、模具的制造、加工及工程设计安装。\t pred=塑料制品的制造、加工及工程设计安装\t entity=塑料加工设备的制造、加工;塑料模具、制品的制造、加工及工程设计安装;粘胶制品的制造、加工及工程设计安装;印刷复合制品的制造、加工及工程设计安装;各类包装的制造、加工及工程设计安装\n",
            "市政共用事业、环卫\t pred=市政共用事业;环卫\t entity=市政共用事业;环卫\n",
            "生产、销售差别异型涤纶长丝、锦纶长丝等化纤产品\t pred=化纤产品的生产、销售\t entity=差别异型涤纶长丝的生产和销售;锦纶长丝的生产和销售\n",
            "计算机软、硬件及其他信息产品的开发、生产、销售以及系统集成等。\t pred=计算机软、硬件的开发、生产、销售;系统集成\t entity=计算机软的开发、生产、销售;硬件产品的开发、生产、销售;系统集成\n",
            "公司主要从事旅游服务及与旅游服务相关的业务,主营业务包括:游船客运、景区旅游业务、酒店、公路旅行客运、出租车业务等。\t pred=旅游服务\t entity=旅游服务;游船客运业务;景区旅游业务;酒店业务;公路旅行客运业务;出租车业务\n",
            "公司是以汽车整车研发、制造及销售为核心业务的汽车整车制造企业,以市场为导向,不断丰富和完善业务范围,提升自主创新实力,逐渐成长为具有核心竞争优势的汽车产业民族自主品牌。\t pred=汽车整车研发、制造及销售\t entity=汽车整车研发、制造及销售\n",
            "公司主营业务为高端制造业和房地产业。\t pred=高端制造业;房地产业\t entity=高端制造业;房地产业\n",
            "主要业务为羊绒和羊绒制品贸易,并通过并购进入新能源锂电池正负极材料生产和销售。\t pred=羊绒和羊绒制品贸易;新能源锂电池正负极材料生产和销售\t entity=羊绒和羊绒制品贸易;新能源锂电池正负极材料生产和销售\n",
            "公司主营业务是煤炭的生产、洗选加工、销售及发供电,矿山开发设计施工、矿用及电力器材生产经营等。\t pred=煤炭的生产、洗选加工、销售及发供电;矿山开发设计施工;矿用电力器材生产经营\t entity=煤炭的生产、洗选加工、销售;煤炭发供电;矿山开发设计施工;矿用及电力器材生产经营\n",
            "聚丙烯粉料、乙腈、石油树脂、加氢戊烯的生产与销售及自营进出口业务。\t pred=聚丙烯粉料;乙腈;石油树脂;加氢戊烯\t entity=聚丙烯粉料的生产与销售;乙腈的生产与销售;石油树脂的生产与销售;加氢戊烯的生产与销售及;自营进出口业务\n",
            "百货零售、批发\t pred=百货零售、批发\t entity=百货零售、批发\n",
            "按产品分类，发行人主营业务可分为激加工及系列成套设备、光通信器件系列产品、敏感元器件和激光全息防伪系列产品4 个板块\t pred=激加工及系列成套设备的研发;光通信器件系列产品;敏感元器件;激光全息防伪产品\t entity=激光加工及系列成套设备;光通信器件系列产品;敏感元器件;激光全息防伪系列产品\n",
            "公司以中药研发、生产和销售等业务为核心,逐步探索布局干细胞、中医医疗健康服务、药食同源系列产品等创新业务。按产品分类，发行人主营业务可分为激加工及系列成套设备、光通信器件系列产品、敏感元器件和激光全息防伪系列产品4 个板块\t pred=中药研发、生产和销售;中医医疗健康服务;药食同源系列产品\t entity=中药的研发、生产和销售\n",
            "主要业务:工业气体及基础化工原料的综合运营;TN、STN等单色液晶材料、TFT-LCD液晶材料和OLED材料等半导体显示材料的生产和销售;D-核糖、L-谷氨酰胺等生命科技产品的生产和销售以及工业大麻的种植、研究、加工及其产品的销售;医疗健康服务;其他业务。\t pred=工业气体及基础化工原料的综合运营;TFT-LCD液晶材料和OLED材料;生命科技产品的生产和销售;工业大麻的种植、研究、加工;医疗健康服务;其他业务\t entity=工业气体及基础化工原料的综合运营;TN、STN等单色液晶材料的生产和销售;TFT-LCD液晶材料的生产和销售;OLED材料等半导体显示材料的生产和销售;生命科技产品的生产和销售;工业大麻的种植、研究、加工及其产品的销售;医疗健康服务\n",
            "公司致力于清洁能源、新能源等领域的发展。目前公司主营业务为电力生产与开发,主要以水电、风电为主,公司在电力为主的基础上进行相关多元投资。\t pred=电力生产与开发\t entity=电力生产与开发（主要以水电、风电为主）;电力投资\n",
            "主要业务包括:白酒酿造与销售;葡萄酒酿造与销售;酿酒葡萄种植。\t pred=白酒酿造与销售;葡萄酒的酿造;酿酒葡萄种植\t entity=白酒酿造与销售;葡萄酒酿造与销售;酿酒葡萄种植\n",
            "大型商品流通企业、生产制造型企业和跨国集团提供全方位第三方物流服务及货运汽车连锁销售服务等业务\t pred=第三方物流服务\t entity=大型商品流通;物流服务;货运汽车连锁销售服务\n",
            "计算机应用产品的研、产、销及服务,并将应用产品的方向定位于金融、通信\t pred=计算机应用产品的研发、产、销及服务\t entity=计算机应用产品的研、产、销及服务\n",
            "杂交水稻、杂交辣椒、瓜类为主的高科技农作物种子、种苗的培育、繁殖、推广和销售,以及与此相关的农化产品的研制、生产和销售业务。\t pred=杂交水稻;杂交辣椒;瓜类为主的高科技农作物种子、种苗的培育、繁殖、推广和销售\t entity=高科技杂交农作物种子、种苗的培育、繁殖、推广和销售\n",
            "研制、生产、销售各类中、西药品。主要经营胃肠类药、外用(皮肤)类药、镇痛解热类药、头孢类抗生素药、心脑血管类药等药品,以及中药材前处理和有效成分提取。\t pred=中、西药品的研制、生产、销售\t entity=中、西药品的研制、生产、销售;中药材前处理和有效成分提取\n",
            "公司是一家专注营养健康、高分子新材料业务生产和销售的国家级高新技术企业,围绕营养品、香精香料、高分子新材料等业务领域创新发展,努力打造“化工+”“生物+”平台,不断丰富产品线,发展功能性化学品。\t pred=营养健康;高分子新材料业务的生产和销售\t entity=营养健康;高分子新材料业务生产和销售\n",
            "公司是一家以经营广告代理及制作、印刷、书刊零售为三大主业的报业服务性企业,主业定位为报业经营服务。\t pred=广告代理;印刷;书刊零售\t entity=广告代理及制作;印刷;书刊零售\n",
            "主营业务主要包括:吸收公众存款;发放短期、中期和长期贷款;办理结算;办理票据贴现;发行金融债券等。\t pred=吸收公众存款;发放短期、中期和长期贷款;办理结算;票据贴现;发行金融债券\t entity=吸收公众存款、发放短期、中期和长期贷款、办理结算业务、办理票据贴现业务、发行金融债券业务\n",
            "公司以航空地面客货过港服务为主业,以与航空主业相关的延伸服务为辅助,形成以客货过港为主线,配合客货代理、航空配餐、场所出租、住宿餐饮、广告、商贸等业务的立体服务系统。\t pred=航空地面客货过港服务\t entity=航空地面客货过港服务;航空延伸服务\n",
            "公司是肩负东风公司轻型商用车事业的大型股份制企业,是全系列轻型商用车整车以及动力总成的研发、生产制造和销售及服务为一体的全价值链制造企业。\t pred=轻型商用车的研发、生产制造和销售及服务\t entity=轻型商用车整车的研发、生产制造和销售及服务;轻型商用车动力总成的研发、生产制造和销售及服务\n",
            "公司是一家主要从事商务服务设施的投资、经营和管理的公司,也是一家典型的出租物业型企业,主要提供包括高档甲级写字楼、商城、公寓等设施的出租及管理,高档酒店经营,大型展览及配套服务、停车设施服务等。\t pred=商务服务设施的投资、经营和管理\t entity=商务服务设施的投资、经营和管理;物业出租;高档酒店经营;大型展览及配套服务;停车设施服务\n",
            "公司业务范围包括城镇水务、水环境综合治理、固废处理和绿色资源管理等。\t pred=城镇水务;水环境综合治理;固废处理;绿色资源管理\t entity=城镇水务;水环境综合治理;固废处理;绿色资源管理\n",
            "为国内外航空运输企业及旅客提供地面保障服务，经营出租机场内航空营业场所、商业场所和办公场所，以及其它与航空运输有关的业务；\t pred=航空运输服务\t entity=航空运输;地面保障服务提供;机场内航空营业场所的出租经营;商业场所的出租经营;办公场所的出租经营\n",
            "公司在全国范围内从事大型火力发电厂的开发、建设和运营，通过电厂所在地电力公司向用户提供可靠与可接受的电力供应。\t pred=大型火力发电厂的开发、建设和运营\t entity=大型火力发电厂的开发、建设和运营;电力供应\n",
            "公司的主营业务为投资、建设、运营及管理安徽省境内的部分收费公路。\t pred=收费公路的投资、建设、运营及管理\t entity=安徽部分收费公路的投资、建设、运营及管理\n",
            "主要业务为面向企业客户和机构客户提供存款、贷款、投资银行、贸易金融、绿色金融和现金管理等专业化、特色化和综合化金融服务。面向个人客户提供各种零售银行产品和服务,以科技为引领,以提升客户体验为导向,大力开展零售银行产品和服务创新,满足广大金融消费者需求。\t pred=零售银行\t entity=面向企业客户和机构客户提供存款、贷款业务;投资银行服务;贸易金融服务;绿色金融服务;现金管理服务\n",
            "业务客户、公司存贷款、投资银行、交易银行、零售银行、小微金融业务、信用卡业务等\t pred=业务客户;公司存贷款;投资银行;交易银行、零售银行;小微金融业务;信用卡业务\t entity=公司存贷款;投资银行业务;交易银行业务;零售银行业务;小微金融业务;信用卡业务\n",
            "公司是一家专注于钢铁业的公司,主要钢铁产品分为碳钢、不锈钢和特殊钢三大类,是我国最大、最现代化的钢铁联合企业,在国际钢铁市场上属于世界级钢铁联合企业。\t pred=钢铁联合企业;碳钢;不锈钢;特殊钢\t entity=碳钢;不锈钢;特殊钢\n",
            "公司所处行业为公路运输业,自成立上市以来主营业务为经营性收费公路的投资、建设、运营管理等。\t pred=经营性收费公路的投资、建设、运营管理\t entity=公路运输业;收费公路的投资、建设、运营管理\n",
            "公司主营业务包括发电、供热、综合智慧能源等。\t pred=发电;供热;综合智慧能源\t entity=发电业务;供热业务;综合智慧能源\n",
            "内、外贸原油、成品油、煤炭及其它干散货运输，内、外贸集装箱运输业务\t pred=原油、成品油、煤炭及其它干散货运输;内、外贸集装箱运输业务\t entity=内、外贸原油运输业务;成品油运输业务;煤炭运输业务;干货运输业务;集装箱运输业务\n",
            "主营石油、天然气和化工经营业务，主要产品有天然气、石油产品、石油化工及其它化工产品和其它商品等。\t pred=石油、天然气和化工经营业务\t entity=石油、天然气经营业务;化工经营业务\n",
            "航空客运、货邮运输。\t pred=航空客运;货邮运输\t entity=航空客运;货邮运输\n",
            "证券承销和上市推荐、证券自营买卖、资产管理和证券代理买卖等业务。\t pred=证券承销和上市推荐;证券自营买卖;资产管理和证券代理买卖\t entity=证券承销业务;上市推荐业务;证券自营买卖业务;资产管理业务;证券代理买卖业务\n",
            "公司主要从事工程机械的研发、制造、销售和服务。\t pred=工程机械的研发、制造、销售和服务\t entity=工程机械的研发、制造、销售和服务\n",
            "公司主营业务为高速公路投资、建设、收费和运营管理。\t pred=高速公路投资、建设、收费和运营管理\t entity=高速公路投资、建设、收费和运营管理\n",
            "主要从事高速公路的运营管理，公司以湖北省境内高等级公路、桥梁等交通基础设施项目的融资、投资建设和经营管理为主营业务。\t pred=高速公路的运营管理\t entity=高速公路的运营管理;交通基础设施项目的融资业务、投资建设业务、经营管理业务\n",
            "公司主要提供公司及个人银行服务、从事资金业务,并提供资产管理、信托及其他金融服务。\t pred=公司及个人银行服务的提供\t entity=公司银行服务;个人银行服务;资金业务;资产管理服务;信托服务\n",
            "广播电视网络的建设开发,广播电视节目收转、传送,广播电视网络信息服务\t pred=广播电视网络的建设、开发、经营、管理和服务\t entity=广播电视网络的建设开发服务、网络信息服务;广播电视节目收转、传送服务\n",
            "0.40816326530612246\n",
            "best_precsion = 0.40816326530612246\t1\n"
          ]
        }
      ]
    },
    {
      "cell_type": "code",
      "source": [],
      "metadata": {
        "id": "SxpndM1-j-Y3",
        "trusted": true
      },
      "execution_count": null,
      "outputs": []
    },
    {
      "cell_type": "code",
      "source": [
        "names = []\n",
        "test_data = []\n",
        "with open('./cks23/test_file.txt','r',encoding='utf-8') as lines:\n",
        "  for line in lines:\n",
        "    data = line.strip().split('\\t')\n",
        "    names.append(data[0])\n",
        "    test_data.append({'query':data[0],'text':data[1]})"
      ],
      "metadata": {
        "id": "IkaJSyhEw1Kc",
        "trusted": true
      },
      "execution_count": null,
      "outputs": []
    },
    {
      "cell_type": "code",
      "source": [
        "results = inference_with_file(test_data)"
      ],
      "metadata": {
        "id": "gW3PPNlgxMhx",
        "trusted": true,
        "colab": {
          "base_uri": "https://localhost:8080/",
          "height": 97
        },
        "outputId": "740fee6a-8ef7-460c-a46b-93591944a56f"
      },
      "execution_count": null,
      "outputs": [
        {
          "output_type": "display_data",
          "data": {
            "text/plain": [
              "\u001b[31m╭─\u001b[0m\u001b[31m──────────────────────────────\u001b[0m\u001b[31m \u001b[0m\u001b[1;31mTraceback \u001b[0m\u001b[1;2;31m(most recent call last)\u001b[0m\u001b[31m \u001b[0m\u001b[31m───────────────────────────────\u001b[0m\u001b[31m─╮\u001b[0m\n",
              "\u001b[31m│\u001b[0m in \u001b[92m<cell line: 1>\u001b[0m:\u001b[94m1\u001b[0m                                                                              \u001b[31m│\u001b[0m\n",
              "\u001b[31m│\u001b[0m in \u001b[92minference_with_file\u001b[0m:\u001b[94m16\u001b[0m                                                                        \u001b[31m│\u001b[0m\n",
              "\u001b[31m╰──────────────────────────────────────────────────────────────────────────────────────────────────╯\u001b[0m\n",
              "\u001b[1;91mKeyError: \u001b[0m\u001b[32m'reference'\u001b[0m\n"
            ],
            "text/html": [
              "<pre style=\"white-space:pre;overflow-x:auto;line-height:normal;font-family:Menlo,'DejaVu Sans Mono',consolas,'Courier New',monospace\"><span style=\"color: #800000; text-decoration-color: #800000\">╭─────────────────────────────── </span><span style=\"color: #800000; text-decoration-color: #800000; font-weight: bold\">Traceback </span><span style=\"color: #bf7f7f; text-decoration-color: #bf7f7f; font-weight: bold\">(most recent call last)</span><span style=\"color: #800000; text-decoration-color: #800000\"> ────────────────────────────────╮</span>\n",
              "<span style=\"color: #800000; text-decoration-color: #800000\">│</span> in <span style=\"color: #00ff00; text-decoration-color: #00ff00\">&lt;cell line: 1&gt;</span>:<span style=\"color: #0000ff; text-decoration-color: #0000ff\">1</span>                                                                              <span style=\"color: #800000; text-decoration-color: #800000\">│</span>\n",
              "<span style=\"color: #800000; text-decoration-color: #800000\">│</span> in <span style=\"color: #00ff00; text-decoration-color: #00ff00\">inference_with_file</span>:<span style=\"color: #0000ff; text-decoration-color: #0000ff\">16</span>                                                                        <span style=\"color: #800000; text-decoration-color: #800000\">│</span>\n",
              "<span style=\"color: #800000; text-decoration-color: #800000\">╰──────────────────────────────────────────────────────────────────────────────────────────────────╯</span>\n",
              "<span style=\"color: #ff0000; text-decoration-color: #ff0000; font-weight: bold\">KeyError: </span><span style=\"color: #008000; text-decoration-color: #008000\">'reference'</span>\n",
              "</pre>\n"
            ]
          },
          "metadata": {}
        }
      ]
    },
    {
      "cell_type": "code",
      "source": [
        "import json\n",
        "writer = open('ner_bart_large_3_06262.txt','a+',encoding='utf-8')\n",
        "for json_data,ner_result in zip(test_data,results):\n",
        "  json_data['entities'] = ner_result\n",
        "  writer.write(json.dumps(json_data,ensure_ascii=False)+'\\n')\n",
        "writer.close()"
      ],
      "metadata": {
        "id": "YbUOLRvoxV-v",
        "trusted": true
      },
      "execution_count": null,
      "outputs": []
    }
  ]
}